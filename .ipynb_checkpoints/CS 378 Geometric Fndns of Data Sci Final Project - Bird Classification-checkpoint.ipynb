{
 "cells": [
  {
   "cell_type": "code",
   "execution_count": 7,
   "metadata": {
    "collapsed": true
   },
   "outputs": [],
   "source": [
    "import pandas as pd\n",
    "import numpy as np"
   ]
  },
  {
   "cell_type": "markdown",
   "metadata": {},
   "source": [
    "Read in the locations of the parts that are labeled on each image"
   ]
  },
  {
   "cell_type": "code",
   "execution_count": 6,
   "metadata": {},
   "outputs": [
    {
     "name": "stdout",
     "output_type": "stream",
     "text": [
      "   image_id  part_id      x      y  visible\n",
      "0         1        1    0.0    0.0        0\n",
      "1         1        2  312.0  182.0        1\n",
      "2         1        3    0.0    0.0        0\n",
      "3         1        4    0.0    0.0        0\n",
      "4         1        5  186.0   45.0        1\n",
      "5         1        6  247.0   79.0        1\n",
      "6         1        7    0.0    0.0        0\n",
      "7         1        8    0.0    0.0        0\n",
      "8         1        9    0.0    0.0        0\n",
      "9         1       10  100.0  221.0        1\n"
     ]
    }
   ],
   "source": [
    "part_locs = pd.read_csv('CUB_200_2011/CUB_200_2011/parts/part_locs.txt', sep=' ', header=None)\n",
    "part_locs.columns = ['image_id', 'part_id', 'x', 'y', 'visible']\n",
    "print(part_locs.head(10))"
   ]
  },
  {
   "cell_type": "markdown",
   "metadata": {},
   "source": [
    "Read in the attribute labels on each image."
   ]
  },
  {
   "cell_type": "code",
   "execution_count": 13,
   "metadata": {},
   "outputs": [
    {
     "name": "stderr",
     "output_type": "stream",
     "text": [
      "b'Skipping line 709498: expected 5 fields, saw 7\\nSkipping line 709499: expected 5 fields, saw 7\\nSkipping line 709500: expected 5 fields, saw 7\\nSkipping line 709501: expected 5 fields, saw 7\\nSkipping line 709502: expected 5 fields, saw 7\\nSkipping line 709503: expected 5 fields, saw 7\\nSkipping line 709504: expected 5 fields, saw 7\\nSkipping line 709505: expected 5 fields, saw 7\\nSkipping line 709506: expected 5 fields, saw 7\\nSkipping line 709507: expected 5 fields, saw 7\\nSkipping line 709508: expected 5 fields, saw 7\\nSkipping line 709509: expected 5 fields, saw 7\\nSkipping line 709510: expected 5 fields, saw 7\\nSkipping line 709511: expected 5 fields, saw 7\\nSkipping line 709512: expected 5 fields, saw 7\\nSkipping line 709513: expected 5 fields, saw 7\\nSkipping line 709514: expected 5 fields, saw 7\\nSkipping line 709515: expected 5 fields, saw 7\\nSkipping line 709516: expected 5 fields, saw 7\\nSkipping line 709517: expected 5 fields, saw 7\\nSkipping line 709518: expected 5 fields, saw 7\\nSkipping line 709519: expected 5 fields, saw 7\\nSkipping line 709520: expected 5 fields, saw 7\\nSkipping line 709521: expected 5 fields, saw 7\\nSkipping line 709522: expected 5 fields, saw 7\\nSkipping line 709523: expected 5 fields, saw 7\\nSkipping line 709524: expected 5 fields, saw 7\\nSkipping line 709525: expected 5 fields, saw 7\\nSkipping line 709526: expected 5 fields, saw 7\\nSkipping line 709527: expected 5 fields, saw 7\\nSkipping line 709528: expected 5 fields, saw 6\\nSkipping line 709529: expected 5 fields, saw 6\\nSkipping line 709530: expected 5 fields, saw 6\\nSkipping line 709531: expected 5 fields, saw 6\\nSkipping line 709532: expected 5 fields, saw 6\\nSkipping line 709533: expected 5 fields, saw 6\\nSkipping line 709534: expected 5 fields, saw 6\\nSkipping line 709535: expected 5 fields, saw 6\\nSkipping line 709536: expected 5 fields, saw 6\\nSkipping line 709537: expected 5 fields, saw 6\\nSkipping line 709538: expected 5 fields, saw 6\\nSkipping line 709539: expected 5 fields, saw 6\\nSkipping line 709540: expected 5 fields, saw 6\\nSkipping line 709541: expected 5 fields, saw 6\\nSkipping line 709542: expected 5 fields, saw 6\\nSkipping line 709543: expected 5 fields, saw 7\\nSkipping line 709544: expected 5 fields, saw 7\\nSkipping line 709545: expected 5 fields, saw 7\\nSkipping line 709546: expected 5 fields, saw 7\\nSkipping line 709547: expected 5 fields, saw 7\\nSkipping line 709548: expected 5 fields, saw 7\\nSkipping line 709549: expected 5 fields, saw 7\\nSkipping line 709550: expected 5 fields, saw 7\\nSkipping line 709551: expected 5 fields, saw 7\\nSkipping line 709552: expected 5 fields, saw 7\\nSkipping line 709553: expected 5 fields, saw 7\\nSkipping line 709554: expected 5 fields, saw 7\\nSkipping line 709555: expected 5 fields, saw 7\\nSkipping line 709556: expected 5 fields, saw 7\\nSkipping line 709557: expected 5 fields, saw 7\\nSkipping line 709558: expected 5 fields, saw 7\\nSkipping line 709559: expected 5 fields, saw 7\\nSkipping line 709560: expected 5 fields, saw 7\\nSkipping line 709561: expected 5 fields, saw 7\\nSkipping line 709562: expected 5 fields, saw 7\\nSkipping line 709563: expected 5 fields, saw 7\\nSkipping line 709564: expected 5 fields, saw 7\\nSkipping line 709565: expected 5 fields, saw 7\\nSkipping line 709566: expected 5 fields, saw 7\\nSkipping line 709567: expected 5 fields, saw 7\\nSkipping line 709568: expected 5 fields, saw 7\\nSkipping line 709569: expected 5 fields, saw 7\\nSkipping line 709570: expected 5 fields, saw 7\\nSkipping line 709571: expected 5 fields, saw 7\\nSkipping line 709572: expected 5 fields, saw 7\\nSkipping line 709573: expected 5 fields, saw 7\\nSkipping line 709574: expected 5 fields, saw 7\\nSkipping line 709575: expected 5 fields, saw 7\\nSkipping line 709576: expected 5 fields, saw 7\\nSkipping line 709577: expected 5 fields, saw 7\\nSkipping line 709578: expected 5 fields, saw 7\\nSkipping line 709579: expected 5 fields, saw 7\\nSkipping line 709580: expected 5 fields, saw 7\\nSkipping line 709581: expected 5 fields, saw 7\\nSkipping line 709582: expected 5 fields, saw 7\\nSkipping line 709583: expected 5 fields, saw 7\\nSkipping line 709584: expected 5 fields, saw 7\\nSkipping line 709585: expected 5 fields, saw 7\\nSkipping line 709586: expected 5 fields, saw 7\\nSkipping line 709587: expected 5 fields, saw 7\\nSkipping line 709588: expected 5 fields, saw 7\\nSkipping line 709589: expected 5 fields, saw 7\\nSkipping line 709590: expected 5 fields, saw 7\\nSkipping line 709591: expected 5 fields, saw 7\\nSkipping line 709592: expected 5 fields, saw 7\\nSkipping line 709593: expected 5 fields, saw 7\\nSkipping line 709594: expected 5 fields, saw 7\\nSkipping line 709595: expected 5 fields, saw 7\\nSkipping line 709596: expected 5 fields, saw 7\\nSkipping line 709597: expected 5 fields, saw 7\\nSkipping line 709598: expected 5 fields, saw 7\\nSkipping line 709599: expected 5 fields, saw 7\\nSkipping line 709600: expected 5 fields, saw 7\\nSkipping line 709601: expected 5 fields, saw 7\\nSkipping line 709602: expected 5 fields, saw 7\\nSkipping line 709603: expected 5 fields, saw 7\\nSkipping line 709604: expected 5 fields, saw 7\\nSkipping line 709605: expected 5 fields, saw 7\\nSkipping line 709606: expected 5 fields, saw 7\\nSkipping line 709607: expected 5 fields, saw 7\\nSkipping line 709608: expected 5 fields, saw 7\\nSkipping line 709609: expected 5 fields, saw 7\\nSkipping line 709610: expected 5 fields, saw 7\\nSkipping line 709611: expected 5 fields, saw 7\\nSkipping line 709612: expected 5 fields, saw 7\\nSkipping line 709613: expected 5 fields, saw 7\\nSkipping line 709614: expected 5 fields, saw 7\\nSkipping line 709615: expected 5 fields, saw 7\\nSkipping line 709616: expected 5 fields, saw 7\\nSkipping line 709617: expected 5 fields, saw 7\\nSkipping line 709618: expected 5 fields, saw 7\\nSkipping line 709619: expected 5 fields, saw 7\\nSkipping line 709620: expected 5 fields, saw 7\\nSkipping line 709621: expected 5 fields, saw 7\\nSkipping line 709622: expected 5 fields, saw 7\\nSkipping line 709623: expected 5 fields, saw 7\\nSkipping line 709624: expected 5 fields, saw 7\\nSkipping line 709625: expected 5 fields, saw 7\\nSkipping line 709626: expected 5 fields, saw 7\\nSkipping line 709627: expected 5 fields, saw 7\\nSkipping line 709628: expected 5 fields, saw 7\\nSkipping line 709629: expected 5 fields, saw 7\\nSkipping line 709630: expected 5 fields, saw 7\\nSkipping line 709631: expected 5 fields, saw 7\\nSkipping line 709632: expected 5 fields, saw 7\\nSkipping line 709633: expected 5 fields, saw 7\\nSkipping line 709634: expected 5 fields, saw 7\\nSkipping line 709635: expected 5 fields, saw 7\\nSkipping line 709636: expected 5 fields, saw 7\\nSkipping line 709637: expected 5 fields, saw 7\\nSkipping line 709638: expected 5 fields, saw 7\\nSkipping line 709639: expected 5 fields, saw 7\\nSkipping line 709640: expected 5 fields, saw 7\\nSkipping line 709641: expected 5 fields, saw 6\\nSkipping line 709642: expected 5 fields, saw 6\\nSkipping line 709643: expected 5 fields, saw 6\\nSkipping line 709644: expected 5 fields, saw 6\\nSkipping line 709645: expected 5 fields, saw 6\\nSkipping line 709646: expected 5 fields, saw 6\\nSkipping line 709647: expected 5 fields, saw 6\\nSkipping line 709648: expected 5 fields, saw 6\\nSkipping line 709649: expected 5 fields, saw 6\\nSkipping line 709650: expected 5 fields, saw 6\\nSkipping line 709651: expected 5 fields, saw 6\\nSkipping line 709652: expected 5 fields, saw 6\\nSkipping line 709653: expected 5 fields, saw 6\\nSkipping line 709654: expected 5 fields, saw 6\\nSkipping line 709655: expected 5 fields, saw 6\\nSkipping line 709656: expected 5 fields, saw 7\\nSkipping line 709657: expected 5 fields, saw 7\\nSkipping line 709658: expected 5 fields, saw 7\\nSkipping line 709659: expected 5 fields, saw 7\\nSkipping line 709660: expected 5 fields, saw 7\\nSkipping line 709661: expected 5 fields, saw 7\\nSkipping line 709662: expected 5 fields, saw 7\\nSkipping line 709663: expected 5 fields, saw 7\\nSkipping line 709664: expected 5 fields, saw 7\\nSkipping line 709665: expected 5 fields, saw 7\\nSkipping line 709666: expected 5 fields, saw 7\\nSkipping line 709667: expected 5 fields, saw 7\\nSkipping line 709668: expected 5 fields, saw 7\\nSkipping line 709669: expected 5 fields, saw 7\\nSkipping line 709670: expected 5 fields, saw 7\\nSkipping line 709671: expected 5 fields, saw 7\\nSkipping line 709672: expected 5 fields, saw 7\\nSkipping line 709673: expected 5 fields, saw 7\\nSkipping line 709674: expected 5 fields, saw 7\\nSkipping line 709675: expected 5 fields, saw 7\\nSkipping line 709676: expected 5 fields, saw 7\\nSkipping line 709677: expected 5 fields, saw 7\\nSkipping line 709678: expected 5 fields, saw 7\\nSkipping line 709679: expected 5 fields, saw 7\\nSkipping line 709680: expected 5 fields, saw 7\\nSkipping line 709681: expected 5 fields, saw 7\\nSkipping line 709682: expected 5 fields, saw 7\\nSkipping line 709683: expected 5 fields, saw 7\\nSkipping line 709684: expected 5 fields, saw 7\\nSkipping line 709685: expected 5 fields, saw 7\\nSkipping line 709686: expected 5 fields, saw 7\\nSkipping line 709687: expected 5 fields, saw 7\\nSkipping line 709688: expected 5 fields, saw 7\\nSkipping line 709689: expected 5 fields, saw 7\\nSkipping line 709690: expected 5 fields, saw 7\\nSkipping line 709691: expected 5 fields, saw 7\\nSkipping line 709692: expected 5 fields, saw 7\\nSkipping line 709693: expected 5 fields, saw 7\\nSkipping line 709694: expected 5 fields, saw 7\\nSkipping line 709695: expected 5 fields, saw 7\\nSkipping line 709696: expected 5 fields, saw 7\\nSkipping line 709697: expected 5 fields, saw 7\\nSkipping line 709698: expected 5 fields, saw 7\\nSkipping line 709699: expected 5 fields, saw 7\\nSkipping line 709700: expected 5 fields, saw 7\\nSkipping line 709701: expected 5 fields, saw 7\\nSkipping line 709702: expected 5 fields, saw 7\\nSkipping line 709703: expected 5 fields, saw 7\\nSkipping line 709704: expected 5 fields, saw 7\\nSkipping line 709705: expected 5 fields, saw 7\\nSkipping line 709706: expected 5 fields, saw 7\\nSkipping line 709707: expected 5 fields, saw 7\\nSkipping line 709708: expected 5 fields, saw 7\\nSkipping line 709709: expected 5 fields, saw 7\\nSkipping line 709710: expected 5 fields, saw 7\\nSkipping line 709711: expected 5 fields, saw 7\\nSkipping line 709712: expected 5 fields, saw 7\\nSkipping line 709713: expected 5 fields, saw 7\\nSkipping line 709714: expected 5 fields, saw 7\\nSkipping line 709715: expected 5 fields, saw 7\\nSkipping line 709716: expected 5 fields, saw 7\\nSkipping line 709717: expected 5 fields, saw 7\\nSkipping line 709718: expected 5 fields, saw 7\\nSkipping line 709719: expected 5 fields, saw 7\\nSkipping line 709720: expected 5 fields, saw 7\\nSkipping line 709721: expected 5 fields, saw 7\\nSkipping line 709722: expected 5 fields, saw 7\\nSkipping line 709723: expected 5 fields, saw 7\\nSkipping line 709724: expected 5 fields, saw 7\\nSkipping line 709725: expected 5 fields, saw 7\\nSkipping line 709726: expected 5 fields, saw 7\\nSkipping line 709727: expected 5 fields, saw 7\\nSkipping line 709728: expected 5 fields, saw 7\\nSkipping line 709729: expected 5 fields, saw 7\\nSkipping line 709730: expected 5 fields, saw 7\\nSkipping line 709731: expected 5 fields, saw 7\\nSkipping line 709732: expected 5 fields, saw 7\\nSkipping line 709733: expected 5 fields, saw 7\\nSkipping line 709734: expected 5 fields, saw 7\\nSkipping line 709735: expected 5 fields, saw 7\\nSkipping line 709736: expected 5 fields, saw 7\\nSkipping line 709737: expected 5 fields, saw 7\\nSkipping line 709738: expected 5 fields, saw 7\\nSkipping line 709739: expected 5 fields, saw 7\\nSkipping line 709740: expected 5 fields, saw 7\\nSkipping line 709741: expected 5 fields, saw 7\\nSkipping line 709742: expected 5 fields, saw 7\\nSkipping line 709743: expected 5 fields, saw 7\\nSkipping line 709744: expected 5 fields, saw 7\\nSkipping line 709745: expected 5 fields, saw 7\\nSkipping line 709746: expected 5 fields, saw 7\\nSkipping line 709747: expected 5 fields, saw 7\\nSkipping line 709748: expected 5 fields, saw 7\\nSkipping line 709749: expected 5 fields, saw 7\\nSkipping line 709750: expected 5 fields, saw 7\\nSkipping line 709751: expected 5 fields, saw 7\\nSkipping line 709752: expected 5 fields, saw 7\\nSkipping line 709753: expected 5 fields, saw 7\\nSkipping line 709754: expected 5 fields, saw 7\\nSkipping line 709755: expected 5 fields, saw 7\\nSkipping line 709756: expected 5 fields, saw 7\\nSkipping line 709757: expected 5 fields, saw 7\\nSkipping line 709758: expected 5 fields, saw 7\\nSkipping line 709759: expected 5 fields, saw 7\\nSkipping line 709760: expected 5 fields, saw 7\\nSkipping line 709761: expected 5 fields, saw 7\\nSkipping line 709762: expected 5 fields, saw 7\\nSkipping line 709763: expected 5 fields, saw 7\\nSkipping line 709764: expected 5 fields, saw 7\\nSkipping line 709765: expected 5 fields, saw 7\\nSkipping line 709766: expected 5 fields, saw 7\\nSkipping line 709767: expected 5 fields, saw 7\\nSkipping line 709768: expected 5 fields, saw 7\\nSkipping line 709769: expected 5 fields, saw 7\\nSkipping line 709770: expected 5 fields, saw 7\\nSkipping line 709771: expected 5 fields, saw 7\\nSkipping line 709772: expected 5 fields, saw 7\\nSkipping line 709773: expected 5 fields, saw 7\\nSkipping line 709774: expected 5 fields, saw 7\\nSkipping line 709775: expected 5 fields, saw 7\\nSkipping line 709776: expected 5 fields, saw 7\\nSkipping line 709777: expected 5 fields, saw 7\\nSkipping line 709778: expected 5 fields, saw 7\\nSkipping line 709779: expected 5 fields, saw 7\\nSkipping line 709780: expected 5 fields, saw 7\\nSkipping line 709781: expected 5 fields, saw 7\\nSkipping line 709782: expected 5 fields, saw 7\\nSkipping line 709783: expected 5 fields, saw 7\\nSkipping line 709784: expected 5 fields, saw 7\\nSkipping line 709785: expected 5 fields, saw 7\\nSkipping line 709786: expected 5 fields, saw 7\\nSkipping line 709787: expected 5 fields, saw 7\\nSkipping line 709788: expected 5 fields, saw 7\\nSkipping line 709789: expected 5 fields, saw 7\\nSkipping line 709790: expected 5 fields, saw 7\\nSkipping line 709791: expected 5 fields, saw 7\\nSkipping line 709792: expected 5 fields, saw 7\\nSkipping line 709793: expected 5 fields, saw 7\\nSkipping line 709794: expected 5 fields, saw 7\\nSkipping line 709795: expected 5 fields, saw 7\\nSkipping line 709796: expected 5 fields, saw 7\\nSkipping line 709797: expected 5 fields, saw 7\\nSkipping line 709798: expected 5 fields, saw 7\\nSkipping line 709799: expected 5 fields, saw 7\\nSkipping line 709800: expected 5 fields, saw 7\\n'\n"
     ]
    },
    {
     "name": "stderr",
     "output_type": "stream",
     "text": [
      "b'Skipping line 2921266: expected 5 fields, saw 7\\nSkipping line 2921267: expected 5 fields, saw 7\\nSkipping line 2921268: expected 5 fields, saw 7\\nSkipping line 2921269: expected 5 fields, saw 7\\nSkipping line 2921270: expected 5 fields, saw 7\\nSkipping line 2921271: expected 5 fields, saw 7\\nSkipping line 2921272: expected 5 fields, saw 7\\nSkipping line 2921273: expected 5 fields, saw 7\\nSkipping line 2921274: expected 5 fields, saw 7\\nSkipping line 2921275: expected 5 fields, saw 7\\nSkipping line 2921276: expected 5 fields, saw 7\\nSkipping line 2921277: expected 5 fields, saw 7\\nSkipping line 2921278: expected 5 fields, saw 7\\nSkipping line 2921279: expected 5 fields, saw 7\\nSkipping line 2921280: expected 5 fields, saw 7\\nSkipping line 2921281: expected 5 fields, saw 7\\nSkipping line 2921282: expected 5 fields, saw 7\\nSkipping line 2921283: expected 5 fields, saw 7\\nSkipping line 2921284: expected 5 fields, saw 7\\nSkipping line 2921285: expected 5 fields, saw 7\\nSkipping line 2921286: expected 5 fields, saw 7\\nSkipping line 2921287: expected 5 fields, saw 7\\nSkipping line 2921288: expected 5 fields, saw 7\\nSkipping line 2921289: expected 5 fields, saw 7\\nSkipping line 2921290: expected 5 fields, saw 7\\nSkipping line 2921291: expected 5 fields, saw 7\\nSkipping line 2921292: expected 5 fields, saw 7\\nSkipping line 2921293: expected 5 fields, saw 7\\nSkipping line 2921294: expected 5 fields, saw 7\\nSkipping line 2921295: expected 5 fields, saw 7\\nSkipping line 2921296: expected 5 fields, saw 7\\nSkipping line 2921297: expected 5 fields, saw 7\\nSkipping line 2921298: expected 5 fields, saw 7\\nSkipping line 2921299: expected 5 fields, saw 7\\nSkipping line 2921300: expected 5 fields, saw 7\\nSkipping line 2921301: expected 5 fields, saw 7\\nSkipping line 2921302: expected 5 fields, saw 7\\nSkipping line 2921303: expected 5 fields, saw 7\\nSkipping line 2921304: expected 5 fields, saw 7\\nSkipping line 2921305: expected 5 fields, saw 7\\nSkipping line 2921306: expected 5 fields, saw 7\\nSkipping line 2921307: expected 5 fields, saw 7\\nSkipping line 2921308: expected 5 fields, saw 7\\nSkipping line 2921309: expected 5 fields, saw 7\\nSkipping line 2921310: expected 5 fields, saw 7\\nSkipping line 2921311: expected 5 fields, saw 7\\nSkipping line 2921312: expected 5 fields, saw 7\\nSkipping line 2921313: expected 5 fields, saw 7\\nSkipping line 2921314: expected 5 fields, saw 7\\nSkipping line 2921315: expected 5 fields, saw 7\\nSkipping line 2921316: expected 5 fields, saw 7\\nSkipping line 2921317: expected 5 fields, saw 7\\nSkipping line 2921318: expected 5 fields, saw 7\\nSkipping line 2921319: expected 5 fields, saw 7\\nSkipping line 2921320: expected 5 fields, saw 7\\nSkipping line 2921321: expected 5 fields, saw 7\\nSkipping line 2921322: expected 5 fields, saw 7\\nSkipping line 2921323: expected 5 fields, saw 7\\nSkipping line 2921324: expected 5 fields, saw 7\\nSkipping line 2921325: expected 5 fields, saw 7\\nSkipping line 2921326: expected 5 fields, saw 7\\nSkipping line 2921327: expected 5 fields, saw 7\\nSkipping line 2921328: expected 5 fields, saw 7\\nSkipping line 2921329: expected 5 fields, saw 7\\nSkipping line 2921330: expected 5 fields, saw 6\\nSkipping line 2921331: expected 5 fields, saw 6\\nSkipping line 2921332: expected 5 fields, saw 6\\nSkipping line 2921333: expected 5 fields, saw 6\\nSkipping line 2921334: expected 5 fields, saw 6\\nSkipping line 2921335: expected 5 fields, saw 6\\nSkipping line 2921336: expected 5 fields, saw 7\\nSkipping line 2921337: expected 5 fields, saw 7\\nSkipping line 2921338: expected 5 fields, saw 7\\nSkipping line 2921339: expected 5 fields, saw 7\\nSkipping line 2921340: expected 5 fields, saw 7\\nSkipping line 2921341: expected 5 fields, saw 7\\nSkipping line 2921342: expected 5 fields, saw 7\\nSkipping line 2921343: expected 5 fields, saw 7\\nSkipping line 2921344: expected 5 fields, saw 7\\nSkipping line 2921345: expected 5 fields, saw 7\\nSkipping line 2921346: expected 5 fields, saw 7\\nSkipping line 2921347: expected 5 fields, saw 7\\nSkipping line 2921348: expected 5 fields, saw 7\\nSkipping line 2921349: expected 5 fields, saw 7\\nSkipping line 2921350: expected 5 fields, saw 7\\nSkipping line 2921351: expected 5 fields, saw 7\\nSkipping line 2921352: expected 5 fields, saw 7\\nSkipping line 2921353: expected 5 fields, saw 7\\nSkipping line 2921354: expected 5 fields, saw 7\\nSkipping line 2921355: expected 5 fields, saw 7\\nSkipping line 2921356: expected 5 fields, saw 7\\nSkipping line 2921357: expected 5 fields, saw 7\\nSkipping line 2921358: expected 5 fields, saw 7\\nSkipping line 2921359: expected 5 fields, saw 7\\nSkipping line 2921360: expected 5 fields, saw 7\\nSkipping line 2921361: expected 5 fields, saw 7\\nSkipping line 2921362: expected 5 fields, saw 7\\nSkipping line 2921363: expected 5 fields, saw 7\\nSkipping line 2921364: expected 5 fields, saw 7\\nSkipping line 2921365: expected 5 fields, saw 7\\nSkipping line 2921366: expected 5 fields, saw 7\\nSkipping line 2921367: expected 5 fields, saw 7\\nSkipping line 2921368: expected 5 fields, saw 7\\nSkipping line 2921369: expected 5 fields, saw 7\\nSkipping line 2921370: expected 5 fields, saw 7\\nSkipping line 2921371: expected 5 fields, saw 7\\nSkipping line 2921372: expected 5 fields, saw 7\\nSkipping line 2921373: expected 5 fields, saw 7\\nSkipping line 2921374: expected 5 fields, saw 7\\nSkipping line 2921375: expected 5 fields, saw 7\\nSkipping line 2921376: expected 5 fields, saw 7\\nSkipping line 2921377: expected 5 fields, saw 7\\nSkipping line 2921378: expected 5 fields, saw 7\\nSkipping line 2921379: expected 5 fields, saw 7\\nSkipping line 2921380: expected 5 fields, saw 7\\nSkipping line 2921381: expected 5 fields, saw 7\\nSkipping line 2921382: expected 5 fields, saw 7\\nSkipping line 2921383: expected 5 fields, saw 7\\nSkipping line 2921384: expected 5 fields, saw 7\\nSkipping line 2921385: expected 5 fields, saw 7\\nSkipping line 2921386: expected 5 fields, saw 7\\nSkipping line 2921387: expected 5 fields, saw 7\\nSkipping line 2921388: expected 5 fields, saw 7\\nSkipping line 2921389: expected 5 fields, saw 7\\nSkipping line 2921390: expected 5 fields, saw 7\\nSkipping line 2921391: expected 5 fields, saw 7\\nSkipping line 2921392: expected 5 fields, saw 7\\nSkipping line 2921393: expected 5 fields, saw 7\\nSkipping line 2921394: expected 5 fields, saw 7\\nSkipping line 2921395: expected 5 fields, saw 7\\nSkipping line 2921396: expected 5 fields, saw 7\\nSkipping line 2921397: expected 5 fields, saw 7\\nSkipping line 2921398: expected 5 fields, saw 7\\nSkipping line 2921399: expected 5 fields, saw 7\\nSkipping line 2921400: expected 5 fields, saw 7\\nSkipping line 2921401: expected 5 fields, saw 7\\nSkipping line 2921402: expected 5 fields, saw 7\\nSkipping line 2921403: expected 5 fields, saw 7\\nSkipping line 2921404: expected 5 fields, saw 7\\nSkipping line 2921405: expected 5 fields, saw 7\\nSkipping line 2921406: expected 5 fields, saw 7\\nSkipping line 2921407: expected 5 fields, saw 7\\nSkipping line 2921408: expected 5 fields, saw 7\\nSkipping line 2921409: expected 5 fields, saw 7\\nSkipping line 2921410: expected 5 fields, saw 7\\nSkipping line 2921411: expected 5 fields, saw 7\\nSkipping line 2921412: expected 5 fields, saw 7\\nSkipping line 2921413: expected 5 fields, saw 7\\nSkipping line 2921414: expected 5 fields, saw 7\\nSkipping line 2921415: expected 5 fields, saw 7\\nSkipping line 2921416: expected 5 fields, saw 7\\nSkipping line 2921417: expected 5 fields, saw 7\\nSkipping line 2921418: expected 5 fields, saw 7\\nSkipping line 2921419: expected 5 fields, saw 7\\nSkipping line 2921420: expected 5 fields, saw 7\\nSkipping line 2921421: expected 5 fields, saw 7\\nSkipping line 2921422: expected 5 fields, saw 7\\nSkipping line 2921423: expected 5 fields, saw 7\\nSkipping line 2921424: expected 5 fields, saw 7\\nSkipping line 2921425: expected 5 fields, saw 7\\nSkipping line 2921426: expected 5 fields, saw 7\\nSkipping line 2921427: expected 5 fields, saw 7\\nSkipping line 2921428: expected 5 fields, saw 7\\nSkipping line 2921429: expected 5 fields, saw 7\\nSkipping line 2921430: expected 5 fields, saw 7\\nSkipping line 2921431: expected 5 fields, saw 7\\nSkipping line 2921432: expected 5 fields, saw 7\\nSkipping line 2921433: expected 5 fields, saw 7\\nSkipping line 2921434: expected 5 fields, saw 7\\nSkipping line 2921435: expected 5 fields, saw 7\\nSkipping line 2921436: expected 5 fields, saw 7\\nSkipping line 2921437: expected 5 fields, saw 7\\nSkipping line 2921438: expected 5 fields, saw 7\\nSkipping line 2921439: expected 5 fields, saw 7\\nSkipping line 2921440: expected 5 fields, saw 7\\nSkipping line 2921441: expected 5 fields, saw 7\\nSkipping line 2921442: expected 5 fields, saw 7\\nSkipping line 2921443: expected 5 fields, saw 7\\nSkipping line 2921444: expected 5 fields, saw 7\\nSkipping line 2921445: expected 5 fields, saw 7\\nSkipping line 2921446: expected 5 fields, saw 7\\nSkipping line 2921447: expected 5 fields, saw 7\\nSkipping line 2921448: expected 5 fields, saw 7\\nSkipping line 2921449: expected 5 fields, saw 7\\nSkipping line 2921450: expected 5 fields, saw 7\\nSkipping line 2921451: expected 5 fields, saw 7\\nSkipping line 2921452: expected 5 fields, saw 7\\nSkipping line 2921453: expected 5 fields, saw 7\\nSkipping line 2921454: expected 5 fields, saw 7\\nSkipping line 2921455: expected 5 fields, saw 7\\nSkipping line 2921456: expected 5 fields, saw 7\\nSkipping line 2921457: expected 5 fields, saw 7\\nSkipping line 2921458: expected 5 fields, saw 7\\nSkipping line 2921459: expected 5 fields, saw 7\\nSkipping line 2921460: expected 5 fields, saw 7\\nSkipping line 2921461: expected 5 fields, saw 7\\nSkipping line 2921462: expected 5 fields, saw 7\\nSkipping line 2921463: expected 5 fields, saw 7\\nSkipping line 2921464: expected 5 fields, saw 7\\nSkipping line 2921465: expected 5 fields, saw 7\\nSkipping line 2921466: expected 5 fields, saw 7\\nSkipping line 2921467: expected 5 fields, saw 7\\nSkipping line 2921468: expected 5 fields, saw 7\\nSkipping line 2921469: expected 5 fields, saw 7\\nSkipping line 2921470: expected 5 fields, saw 7\\nSkipping line 2921471: expected 5 fields, saw 7\\nSkipping line 2921472: expected 5 fields, saw 7\\nSkipping line 2921473: expected 5 fields, saw 7\\nSkipping line 2921474: expected 5 fields, saw 7\\nSkipping line 2921475: expected 5 fields, saw 7\\nSkipping line 2921476: expected 5 fields, saw 7\\nSkipping line 2921477: expected 5 fields, saw 7\\nSkipping line 2921478: expected 5 fields, saw 7\\nSkipping line 2921479: expected 5 fields, saw 7\\nSkipping line 2921480: expected 5 fields, saw 7\\nSkipping line 2921481: expected 5 fields, saw 7\\nSkipping line 2921482: expected 5 fields, saw 7\\nSkipping line 2921483: expected 5 fields, saw 7\\nSkipping line 2921484: expected 5 fields, saw 7\\nSkipping line 2921485: expected 5 fields, saw 7\\nSkipping line 2921486: expected 5 fields, saw 7\\nSkipping line 2921487: expected 5 fields, saw 7\\nSkipping line 2921488: expected 5 fields, saw 7\\nSkipping line 2921489: expected 5 fields, saw 7\\nSkipping line 2921490: expected 5 fields, saw 7\\nSkipping line 2921491: expected 5 fields, saw 7\\nSkipping line 2921492: expected 5 fields, saw 7\\nSkipping line 2921493: expected 5 fields, saw 7\\nSkipping line 2921494: expected 5 fields, saw 7\\nSkipping line 2921495: expected 5 fields, saw 7\\nSkipping line 2921496: expected 5 fields, saw 7\\nSkipping line 2921497: expected 5 fields, saw 7\\nSkipping line 2921498: expected 5 fields, saw 7\\nSkipping line 2921499: expected 5 fields, saw 7\\nSkipping line 2921500: expected 5 fields, saw 7\\nSkipping line 2921501: expected 5 fields, saw 7\\nSkipping line 2921502: expected 5 fields, saw 7\\nSkipping line 2921503: expected 5 fields, saw 7\\nSkipping line 2921504: expected 5 fields, saw 7\\nSkipping line 2921505: expected 5 fields, saw 6\\nSkipping line 2921506: expected 5 fields, saw 6\\nSkipping line 2921507: expected 5 fields, saw 6\\nSkipping line 2921508: expected 5 fields, saw 6\\nSkipping line 2921509: expected 5 fields, saw 6\\nSkipping line 2921510: expected 5 fields, saw 6\\nSkipping line 2921511: expected 5 fields, saw 6\\nSkipping line 2921512: expected 5 fields, saw 6\\nSkipping line 2921513: expected 5 fields, saw 6\\nSkipping line 2921514: expected 5 fields, saw 6\\nSkipping line 2921515: expected 5 fields, saw 6\\nSkipping line 2921516: expected 5 fields, saw 6\\nSkipping line 2921517: expected 5 fields, saw 6\\nSkipping line 2921518: expected 5 fields, saw 6\\nSkipping line 2921519: expected 5 fields, saw 6\\nSkipping line 2921520: expected 5 fields, saw 6\\nSkipping line 2921521: expected 5 fields, saw 6\\nSkipping line 2921522: expected 5 fields, saw 6\\nSkipping line 2921523: expected 5 fields, saw 6\\nSkipping line 2921524: expected 5 fields, saw 6\\nSkipping line 2921525: expected 5 fields, saw 6\\nSkipping line 2921526: expected 5 fields, saw 6\\nSkipping line 2921527: expected 5 fields, saw 6\\nSkipping line 2921528: expected 5 fields, saw 6\\nSkipping line 2921529: expected 5 fields, saw 6\\nSkipping line 2921530: expected 5 fields, saw 6\\nSkipping line 2921531: expected 5 fields, saw 6\\nSkipping line 2921532: expected 5 fields, saw 6\\nSkipping line 2921533: expected 5 fields, saw 6\\nSkipping line 2921534: expected 5 fields, saw 6\\nSkipping line 2921535: expected 5 fields, saw 7\\nSkipping line 2921536: expected 5 fields, saw 7\\nSkipping line 2921537: expected 5 fields, saw 7\\nSkipping line 2921538: expected 5 fields, saw 7\\nSkipping line 2921539: expected 5 fields, saw 7\\nSkipping line 2921540: expected 5 fields, saw 7\\nSkipping line 2921541: expected 5 fields, saw 7\\nSkipping line 2921542: expected 5 fields, saw 7\\nSkipping line 2921543: expected 5 fields, saw 7\\nSkipping line 2921544: expected 5 fields, saw 7\\nSkipping line 2921545: expected 5 fields, saw 7\\nSkipping line 2921546: expected 5 fields, saw 7\\nSkipping line 2921547: expected 5 fields, saw 7\\nSkipping line 2921548: expected 5 fields, saw 7\\nSkipping line 2921549: expected 5 fields, saw 7\\nSkipping line 2921550: expected 5 fields, saw 6\\nSkipping line 2921551: expected 5 fields, saw 6\\nSkipping line 2921552: expected 5 fields, saw 6\\nSkipping line 2921553: expected 5 fields, saw 6\\nSkipping line 2921554: expected 5 fields, saw 6\\nSkipping line 2921555: expected 5 fields, saw 6\\nSkipping line 2921556: expected 5 fields, saw 6\\nSkipping line 2921557: expected 5 fields, saw 6\\nSkipping line 2921558: expected 5 fields, saw 6\\nSkipping line 2921559: expected 5 fields, saw 6\\nSkipping line 2921560: expected 5 fields, saw 6\\nSkipping line 2921561: expected 5 fields, saw 6\\nSkipping line 2921562: expected 5 fields, saw 6\\nSkipping line 2921563: expected 5 fields, saw 6\\nSkipping line 2921564: expected 5 fields, saw 6\\nSkipping line 2921565: expected 5 fields, saw 7\\nSkipping line 2921566: expected 5 fields, saw 7\\nSkipping line 2921567: expected 5 fields, saw 7\\nSkipping line 2921568: expected 5 fields, saw 7\\n'\n"
     ]
    },
    {
     "name": "stdout",
     "output_type": "stream",
     "text": [
      "   image_id  attribute_id  is_present  certainty_id    time\n",
      "0         1             1           0             3  27.708\n",
      "1         1             2           0             3  27.708\n",
      "2         1             3           0             3  27.708\n",
      "3         1             4           0             3  27.708\n",
      "4         1             5           1             3  27.708\n"
     ]
    }
   ],
   "source": [
    "image_labels_raw = pd.read_csv('CUB_200_2011/CUB_200_2011/attributes/image_attribute_labels.txt', \\\n",
    "                               sep=' ', header=None, error_bad_lines=False)\n",
    "image_labels_raw.columns = ['image_id', 'attribute_id', 'is_present', 'certainty_id', 'time']\n",
    "print(image_labels_raw.head(5))\n",
    "num_attributes = image_labels_raw.attribute_id.max()\n",
    "num_images = image_labels_raw.image_id.max()"
   ]
  },
  {
   "cell_type": "markdown",
   "metadata": {},
   "source": [
    "Create an embedding for `image_labels_raw`. Each image can have several of many attributes, but this is sparse. For example, an image of a bird can have \"pointy beak\", \"blue belly\", but not \"white tufts\". Each of these labels is associated with an integer id, `attribute_id` column as shown in the output of the previous cell. This embedding's rows represent the `image_id`, and the columns are `0` if the `attribute_id` is not present for that image, and `1` if it is present.\n",
    "\n",
    "The cell below runs for 3.67M rows, which takes awhile to run. The next cell saves it to disk so that it can be loaded quickly."
   ]
  },
  {
   "cell_type": "code",
   "execution_count": 36,
   "metadata": {},
   "outputs": [
    {
     "name": "stdout",
     "output_type": "stream",
     "text": [
      "0 50000 100000 150000 200000 250000 300000 350000 400000 450000 500000 550000 600000 650000 700000 750000 800000 850000 900000 950000 1000000 1050000 1100000 1150000 1200000 1250000 1300000 1350000 1400000 1450000 1500000 1550000 1600000 1650000 1700000 1750000 1800000 1850000 1900000 1950000 2000000 2050000 2100000 2150000 2200000 2250000 2300000 2350000 2400000 2450000 2500000 2550000 2600000 2650000 2700000 2750000 2800000 2850000 2900000 2950000 3000000 3050000 3100000 3150000 3200000 3250000 3300000 3350000 3400000 3450000 3500000 3550000 3600000 3650000 "
     ]
    }
   ],
   "source": [
    "image_labels = np.zeros((num_images, num_attributes))\n",
    "for idx, row in image_labels_raw.iterrows():\n",
    "    im_id = int(row['image_id']) - 1\n",
    "    attr_id = int(row['attribute_id']) - 1\n",
    "    if row['is_present'] == 1.0:\n",
    "        image_labels[im_id][attr_id] = 1\n",
    "    if idx % 50000 == 0:\n",
    "        print(idx, end=' ')\n",
    "np.save('im_label_embedding.npy', image_labels)"
   ]
  },
  {
   "cell_type": "code",
   "execution_count": 37,
   "metadata": {
    "collapsed": true
   },
   "outputs": [],
   "source": [
    "image_labels = np.load('im_label_embedding.npy')"
   ]
  },
  {
   "cell_type": "code",
   "execution_count": 40,
   "metadata": {},
   "outputs": [
    {
     "name": "stdout",
     "output_type": "stream",
     "text": [
      "(11788, 312)\n"
     ]
    }
   ],
   "source": [
    "print(image_labels.shape)"
   ]
  },
  {
   "cell_type": "code",
   "execution_count": null,
   "metadata": {
    "collapsed": true
   },
   "outputs": [],
   "source": []
  }
 ],
 "metadata": {
  "kernelspec": {
   "display_name": "Python 3",
   "language": "python",
   "name": "python3"
  },
  "language_info": {
   "codemirror_mode": {
    "name": "ipython",
    "version": 3
   },
   "file_extension": ".py",
   "mimetype": "text/x-python",
   "name": "python",
   "nbconvert_exporter": "python",
   "pygments_lexer": "ipython3",
   "version": "3.6.2"
  }
 },
 "nbformat": 4,
 "nbformat_minor": 2
}

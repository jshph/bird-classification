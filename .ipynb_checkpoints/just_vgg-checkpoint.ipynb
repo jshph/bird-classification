{
 "cells": [
  {
   "cell_type": "code",
   "execution_count": null,
   "metadata": {},
   "outputs": [
    {
     "name": "stderr",
     "output_type": "stream",
     "text": [
      "/home/ubuntu/anaconda3/envs/tensorflow_p36/lib/python3.6/importlib/_bootstrap.py:219: RuntimeWarning: compiletime version 3.5 of module 'tensorflow.python.framework.fast_tensor_util' does not match runtime version 3.6\n",
      "  return f(*args, **kwds)\n"
     ]
    }
   ],
   "source": [
    "import pandas as pd\n",
    "import numpy as np\n",
    "\n",
    "import matplotlib.pyplot as plt\n",
    "import cv2\n",
    "import pickle\n",
    "import tensorflow as tf"
   ]
  },
  {
   "cell_type": "markdown",
   "metadata": {},
   "source": [
    "Read in the locations of the parts that are labeled on each image, and join them with the address of the corresponding images. This is to be able to train a classifier to distinguish between each `part_id` by looking at that part in the image."
   ]
  },
  {
   "cell_type": "code",
   "execution_count": null,
   "metadata": {},
   "outputs": [
    {
     "name": "stderr",
     "output_type": "stream",
     "text": [
      "/home/ubuntu/anaconda3/envs/tensorflow_p36/lib/python3.6/site-packages/skimage/transform/_warps.py:84: UserWarning: The default mode, 'constant', will be changed to 'reflect' in skimage 0.15.\n",
      "  warn(\"The default mode, 'constant', will be changed to 'reflect' in \"\n"
     ]
    }
   ],
   "source": [
    "NUM_CLASSES = 20 # limit classes trained\n",
    "\n",
    "import matplotlib.patches as patches\n",
    "from collections import defaultdict\n",
    "from skimage import io, transform\n",
    "from numpy.random import choice\n",
    "\n",
    "# GENERATE THE TRAINING DATA\n",
    "\n",
    "# CLASS_IMGS = defaultdict(list)\n",
    "# first level key = class_id. second level key = part_id\n",
    "\n",
    "class_ids = set()\n",
    "\n",
    "CLASS_INSTANCES = []\n",
    "IMG_LABELS = []\n",
    "TEST_INSTANCES = []\n",
    "TEST_LABELS = []\n",
    "# prev_class_id = 0\n",
    "train_test_ratio = [0.9, 0.1]\n",
    "\n",
    "im_addr_classes = pickle.load(open('metadata', 'rb'))\n",
    "for index, row in im_addr_classes.iterrows():\n",
    "    im_id, im_addr, bb_x, bb_y, bb_w, bb_h, class_id = row\n",
    "    \n",
    "    if class_id not in class_ids:\n",
    "        if len(class_ids) >= NUM_CLASSES:\n",
    "            break\n",
    "        class_ids.add(class_id)\n",
    "    \n",
    "    img = io.imread('CUB_200_2011/images/' + im_addr)\n",
    "    \n",
    "    bb_x, bb_y, bb_w, bb_h = [int(x) for x in [bb_x, bb_y, bb_w, bb_h]]\n",
    "    if len(img.shape) == 2:\n",
    "        img = np.dstack([img, img, img])\n",
    "    if 0 in img.shape:\n",
    "        continue\n",
    "\n",
    "    img = img[bb_y:bb_y + bb_h, bb_x:bb_x + bb_w, :]\n",
    "    img = transform.resize(img, (224, 224, 3))\n",
    "#     plt.imshow(img)\n",
    "#     plt.show()\n",
    "        \n",
    "\n",
    "#     print('extracting foreground for', class_id, im_addr)\n",
    "    if choice([True, False], p=train_test_ratio):\n",
    "        CLASS_INSTANCES.append(img)\n",
    "        IMG_LABELS.append(class_id)\n",
    "    else:\n",
    "        TEST_INSTANCES.append(img)\n",
    "        TEST_LABELS.append(class_id)\n",
    "\n",
    "print(np.array(CLASS_INSTANCES).shape)\n",
    "print(np.array(TEST_INSTANCES).shape)"
   ]
  },
  {
   "cell_type": "code",
   "execution_count": null,
   "metadata": {},
   "outputs": [],
   "source": [
    "all_imgs_processed = np.array(CLASS_INSTANCES)\n",
    "all_labels = np.array(IMG_LABELS)\n",
    "# np.savez_compressed('images_normalized', all_imgs_processed)\n",
    "# np.savez_compressed('images_normalize_labels', all_labels)"
   ]
  },
  {
   "cell_type": "code",
   "execution_count": null,
   "metadata": {},
   "outputs": [],
   "source": [
    "# VGGNet training\n",
    "\n",
    "# all_imgs_processed = np.load('images_normalized.npz')\n",
    "# all_labels = np.load('images_normalized_labels.npz')\n",
    "import vgg as vgg_mod\n",
    "import importlib\n",
    "importlib.reload(vgg_mod)\n",
    "\n",
    "sess = tf.Session()\n",
    "\n",
    "vgg_obj = None\n",
    "# graph = tf.Graph()\n",
    "# with graph.as_default():\n",
    "imgs = tf.placeholder(tf.float32, [None, 224, 224, 3])\n",
    "vgg_obj = vgg_mod.vgg16(imgs, 'vgg16_weights.npz', sess)\n",
    "\n",
    "labels_ph = tf.placeholder(tf.int64, (None), name='labels_ph')\n",
    "labels_ph_oh = tf.one_hot(labels_ph, 20)\n",
    "#     print(labels_ph_oh)\n",
    "#     vgg_obj.load_weights(vgg_obj.weights, vgg_obj.sess)\n",
    "\n",
    "# print(tf.trainable_variables())\n",
    "\n",
    "# Get trainable variables for the last three custom FC layers (featuring dropout, etc)\n",
    "fc_stem = 'fully_connected'\n",
    "trainable_vars_list = []\n",
    "for i in ['', '_1', '_2']:\n",
    "    trainable_weight_var = tf.contrib.framework.get_variables(fc_stem + i + '/weights:0')\n",
    "    trainable_bias_var = tf.contrib.framework.get_variables(fc_stem + i + '/biases:0')\n",
    "    trainable_vars_list += [trainable_weight_var, trainable_bias_var]\n",
    "\n",
    "optimizer_warm = tf.train.AdamOptimizer(0.001, 0.9, 0.999)\n",
    "loss_warm = tf.nn.softmax_cross_entropy_with_logits(logits=vgg_obj.logits, labels=labels_ph_oh)\n",
    "opt_warm = optimizer_warm.minimize(loss_warm, var_list=trainable_vars_list)\n",
    "\n",
    "optimizer_full = tf.train.AdamOptimizer(0.00001, 0.9, 0.999)\n",
    "loss_full = tf.nn.softmax_cross_entropy_with_logits(logits=vgg_obj.logits, labels=labels_ph_oh)\n",
    "opt_full = optimizer_full.minimize(loss_full)\n",
    "\n",
    "correct = tf.equal(tf.argmax(vgg_obj.probs, 1), labels_ph)\n",
    "accuracy = tf.reduce_mean(tf.cast(correct, tf.float32))\n",
    "        \n",
    "# tf.get_default_graph().finalize()\n",
    "sess.run(tf.global_variables_initializer())\n",
    "vgg_obj.load_weights(vgg_obj.weights, vgg_obj.sess)\n",
    "\n"
   ]
  },
  {
   "cell_type": "code",
   "execution_count": null,
   "metadata": {},
   "outputs": [],
   "source": [
    "# Training code\n",
    "BS = 32\n",
    "NUM_EPOCHS_WARM = 10\n",
    "NUM_EPOCHS_FULL = 10\n",
    "\n",
    "image_data = all_imgs_processed\n",
    "label_data = all_labels\n",
    "\n",
    "training = vgg_obj.training\n",
    "keep_prob = vgg_obj.keep_prob\n",
    "\n",
    "def train_for_epochs(optimizer, loss, epochs):\n",
    "    for epoch in range(epochs):\n",
    "        # Let's shuffle the data every epoch\n",
    "        np.random.seed(epoch)\n",
    "        np.random.shuffle(image_data)\n",
    "        np.random.seed(epoch)\n",
    "        np.random.shuffle(label_data)\n",
    "        # Go through the entire dataset once\n",
    "        accuracy_vals, loss_vals = [], []\n",
    "        for i in range(0, image_data.shape[0]-BS+1, BS):\n",
    "            # Train a single batch\n",
    "            batch_images, batch_labels = image_data[i:i+BS], label_data[i:i+BS]\n",
    "            accuracy_val, loss_val, _ = sess.run([accuracy, loss, optimizer], feed_dict={imgs: batch_images, labels_ph: batch_labels, training: True, keep_prob: 0.9})\n",
    "            accuracy_vals.append(accuracy_val)\n",
    "            loss_vals.append(loss_val)\n",
    "\n",
    "    #     val_correct = []\n",
    "    #     for i in range(0, image_val.shape[0], BS):\n",
    "    #         batch_images, batch_labels = image_val[i:i+BS], label_val[i:i+BS]\n",
    "    #         val_correct.extend( sess.run(correct, feed_dict={eval_inputs: batch_images, labels_ph: batch_labels}) )\n",
    "        print('[%3d] Accuracy: %0.3f  \\t  Loss: %0.3f '%(epoch, np.mean(accuracy_vals), np.mean(loss_vals)))\n",
    "train_for_epochs(opt_warm, loss_warm, NUM_EPOCHS_WARM)\n",
    "train_for_epochs(opt_full, loss_full, NUM_EPOCHS_FULL)"
   ]
  },
  {
   "cell_type": "code",
   "execution_count": null,
   "metadata": {},
   "outputs": [],
   "source": [
    "test_imgs_processed = np.array(TEST_INSTANCES)\n",
    "test_labels = np.array(TEST_LABELS)\n",
    "test_probabilities = sess.run(vgg_obj.probs, feed_dict={vgg_obj.imgs: test_imgs_processed, training: False, keep_prob:0.9})\n",
    "\n",
    "top_1_correct, top_3_correct, top_5_correct = [0] * 3\n",
    "for sample_idx, sample in enumerate(test_probabilities):\n",
    "    top_predictions = (np.argsort(sample)[::-1])[:5]\n",
    "    test_label = test_labels[sample_idx]\n",
    "    if test_label in top_predictions[:1]:\n",
    "        top_1_correct += 1\n",
    "    if test_label in top_predictions[:3]:\n",
    "        top_3_correct += 1\n",
    "    if test_label in top_predictions:\n",
    "        top_5_correct += 1\n",
    "\n",
    "print('Test accuracy:')\n",
    "print('Top-1:', top_1_correct / len(test_imgs_processed))\n",
    "print('Top-3:', top_3_correct / len(test_imgs_processed))\n",
    "print('Top-5:', top_5_correct / len(test_imgs_processed))"
   ]
  },
  {
   "cell_type": "code",
   "execution_count": null,
   "metadata": {},
   "outputs": [],
   "source": []
  }
 ],
 "metadata": {
  "kernelspec": {
   "display_name": "Python 3",
   "language": "python",
   "name": "python3"
  },
  "language_info": {
   "codemirror_mode": {
    "name": "ipython",
    "version": 3
   },
   "file_extension": ".py",
   "mimetype": "text/x-python",
   "name": "python",
   "nbconvert_exporter": "python",
   "pygments_lexer": "ipython3",
   "version": "3.6.3"
  }
 },
 "nbformat": 4,
 "nbformat_minor": 2
}

{
 "cells": [
  {
   "cell_type": "code",
   "execution_count": 1,
   "metadata": {},
   "outputs": [
    {
     "name": "stderr",
     "output_type": "stream",
     "text": [
      "/home/ubuntu/anaconda3/envs/tensorflow_p36/lib/python3.6/importlib/_bootstrap.py:219: RuntimeWarning: compiletime version 3.5 of module 'tensorflow.python.framework.fast_tensor_util' does not match runtime version 3.6\n",
      "  return f(*args, **kwds)\n"
     ]
    }
   ],
   "source": [
    "import pandas as pd\n",
    "import numpy as np\n",
    "\n",
    "import matplotlib.pyplot as plt\n",
    "import cv2\n",
    "import pickle\n",
    "import tensorflow as tf"
   ]
  },
  {
   "cell_type": "code",
   "execution_count": 2,
   "metadata": {},
   "outputs": [
    {
     "name": "stderr",
     "output_type": "stream",
     "text": [
      "/home/ubuntu/anaconda3/envs/tensorflow_p36/lib/python3.6/site-packages/ipykernel_launcher.py:26: DeprecationWarning: `imread` is deprecated!\n",
      "`imread` is deprecated in SciPy 1.0.0, and will be removed in 1.2.0.\n",
      "Use ``imageio.imread`` instead.\n",
      "/home/ubuntu/anaconda3/envs/tensorflow_p36/lib/python3.6/site-packages/ipykernel_launcher.py:35: DeprecationWarning: `imresize` is deprecated!\n",
      "`imresize` is deprecated in SciPy 1.0.0, and will be removed in 1.2.0.\n",
      "Use ``skimage.transform.resize`` instead.\n"
     ]
    }
   ],
   "source": [
    "NUM_CLASSES = 50 # limit classes trained\n",
    "\n",
    "import matplotlib.patches as patches\n",
    "from collections import defaultdict\n",
    "from scipy.misc import imread, imresize\n",
    "from numpy.random import choice\n",
    "\n",
    "class_ids = set()\n",
    "\n",
    "ALL_INSTANCES = defaultdict(list) # maps class id to list of images in that class.\n",
    "\n",
    "im_addr_classes = pickle.load(open('metadata', 'rb'))\n",
    "for index, row in im_addr_classes.iterrows():\n",
    "    im_id, im_addr, bb_x, bb_y, bb_w, bb_h, class_id = row\n",
    "    \n",
    "    if class_id not in class_ids:\n",
    "        if len(class_ids) >= NUM_CLASSES:\n",
    "            break\n",
    "        class_ids.add(class_id)\n",
    "    \n",
    "    img = imread('CUB_200_2011/images/' + im_addr)\n",
    "    \n",
    "    bb_x, bb_y, bb_w, bb_h = [int(x) for x in [bb_x, bb_y, bb_w, bb_h]]\n",
    "    if len(img.shape) == 2:\n",
    "        img = np.dstack([img, img, img])\n",
    "    if 0 in img.shape:\n",
    "        continue\n",
    "\n",
    "    img = img[bb_y:bb_y + bb_h, bb_x:bb_x + bb_w, :]\n",
    "    img = imresize(img, (224, 224))\n",
    "#     plt.imshow(img)\n",
    "#     plt.show()\n",
    "    \n",
    "    ALL_INSTANCES[class_id] += [img]"
   ]
  },
  {
   "cell_type": "code",
   "execution_count": 3,
   "metadata": {},
   "outputs": [
    {
     "name": "stdout",
     "output_type": "stream",
     "text": [
      "Train set size: (1384, 224, 224, 3)\n",
      "Validation set size: (762, 224, 224, 3)\n",
      "Test set size: (743, 224, 224, 3)\n"
     ]
    }
   ],
   "source": [
    "# used to help generate training, testing, and validation datasets by randomly sampling all data.\n",
    "class Datasets(object):\n",
    "    def __init__(self, ratio, all_instances):\n",
    "        \"\"\"\n",
    "        Ratio: [training, validation, testing] ratios.\n",
    "        all_instances: dict(class_id -> [images])\n",
    "        \"\"\"\n",
    "        self.sets = {}\n",
    "        for set_key in ['train', 'val', 'test']:\n",
    "            self.sets[set_key] = {}\n",
    "            self.sets[set_key]['imgs'] = []\n",
    "            self.sets[set_key]['lbls'] = []\n",
    "        self.spread_data(ratio, all_instances)\n",
    "\n",
    "    def get_sets_pairs(self):\n",
    "        return self.sets\n",
    "\n",
    "    def spread_data(self, ratio, all_instances):\n",
    "        \"\"\"\n",
    "        Forms training, validation, and testing set\n",
    "        \"\"\"\n",
    "        for class_id, imgs in all_instances.items():\n",
    "            for img in imgs:\n",
    "                set_choice_idx = choice([0, 1, 2], p=ratio)\n",
    "                set_type = list(self.sets.keys())[set_choice_idx]\n",
    "                self.sets[set_type]['imgs'].append(img)\n",
    "                self.sets[set_type]['lbls'].append(class_id)\n",
    "        for set_type in self.sets.keys():\n",
    "            self.sets[set_type]['imgs'] = np.array(self.sets[set_type]['imgs'])\n",
    "            self.sets[set_type]['lbls'] = np.array(self.sets[set_type]['lbls'])\n",
    "\n",
    "    def show_dataset_size(self):\n",
    "        \"\"\"\n",
    "        Print length of training, validation, and testing set\n",
    "        \"\"\"\n",
    "        print('Train set size:', self.sets['train']['imgs'].shape)\n",
    "        print('Validation set size:', self.sets['val']['imgs'].shape)\n",
    "        print('Test set size:', self.sets['test']['imgs'].shape)\n",
    "\n",
    "train_test_ratio = [0.5, 0.25, 0.25]\n",
    "\n",
    "datasets = Datasets(train_test_ratio, dict(ALL_INSTANCES))\n",
    "datasets.show_dataset_size()"
   ]
  },
  {
   "cell_type": "code",
   "execution_count": 4,
   "metadata": {},
   "outputs": [
    {
     "name": "stdout",
     "output_type": "stream",
     "text": [
      "0 conv1_1_W (3, 3, 3, 64)\n",
      "1 conv1_1_b (64,)\n",
      "2 conv1_2_W (3, 3, 64, 64)\n",
      "3 conv1_2_b (64,)\n",
      "4 conv2_1_W (3, 3, 64, 128)\n",
      "5 conv2_1_b (128,)\n",
      "6 conv2_2_W (3, 3, 128, 128)\n",
      "7 conv2_2_b (128,)\n",
      "8 conv3_1_W (3, 3, 128, 256)\n",
      "9 conv3_1_b (256,)\n",
      "10 conv3_2_W (3, 3, 256, 256)\n",
      "11 conv3_2_b (256,)\n",
      "12 conv3_3_W (3, 3, 256, 256)\n",
      "13 conv3_3_b (256,)\n",
      "14 conv4_1_W (3, 3, 256, 512)\n",
      "15 conv4_1_b (512,)\n",
      "16 conv4_2_W (3, 3, 512, 512)\n",
      "17 conv4_2_b (512,)\n",
      "18 conv4_3_W (3, 3, 512, 512)\n",
      "19 conv4_3_b (512,)\n",
      "20 conv5_1_W (3, 3, 512, 512)\n",
      "21 conv5_1_b (512,)\n",
      "22 conv5_2_W (3, 3, 512, 512)\n",
      "23 conv5_2_b (512,)\n",
      "24 conv5_3_W (3, 3, 512, 512)\n",
      "25 conv5_3_b (512,)\n"
     ]
    }
   ],
   "source": [
    "# VGGNet training\n",
    "\n",
    "# all_imgs_processed = np.load('images_normalized.npz')\n",
    "# all_labels = np.load('images_normalized_labels.npz')\n",
    "import vgg as vgg_mod\n",
    "import importlib\n",
    "importlib.reload(vgg_mod)\n",
    "\n",
    "sess = tf.Session()\n",
    "\n",
    "vgg_obj = None\n",
    "# graph = tf.Graph()\n",
    "# with graph.as_default():\n",
    "imgs = tf.placeholder(tf.float32, [None, 224, 224, 3])\n",
    "vgg_obj = vgg_mod.vgg16(imgs, 'vgg16_weights.npz', sess)\n",
    "\n",
    "labels_ph = tf.placeholder(tf.int64, (None), name='labels_ph')\n",
    "labels_ph_oh = tf.one_hot(labels_ph, 50)\n",
    "#     print(labels_ph_oh)\n",
    "#     vgg_obj.load_weights(vgg_obj.weights, vgg_obj.sess)\n",
    "\n",
    "# print(tf.trainable_variables())\n",
    "\n",
    "# Get trainable variables for the last three custom FC layers (featuring dropout, etc)\n",
    "fc_stem = 'fully_connected'\n",
    "trainable_vars_list = []\n",
    "for i in ['', '_1', '_2']:\n",
    "    trainable_weight_var = tf.contrib.framework.get_variables(fc_stem + i + '/weights:0')\n",
    "    trainable_bias_var = tf.contrib.framework.get_variables(fc_stem + i + '/biases:0')\n",
    "    trainable_vars_list += [trainable_weight_var, trainable_bias_var]\n",
    "\n",
    "optimizer_warm = tf.train.AdamOptimizer(0.001, 0.9, 0.999)\n",
    "loss_warm = tf.nn.sigmoid_cross_entropy_with_logits(logits=vgg_obj.logits, labels=labels_ph_oh)\n",
    "opt_warm = optimizer_warm.minimize(loss_warm, var_list=trainable_vars_list)\n",
    "\n",
    "optimizer_full = tf.train.AdamOptimizer(0.00001, 0.9, 0.999)\n",
    "loss_full = tf.nn.sigmoid_cross_entropy_with_logits(logits=vgg_obj.logits, labels=labels_ph_oh)\n",
    "opt_full = optimizer_full.minimize(loss_full)\n",
    "\n",
    "correct = tf.equal(tf.argmax(vgg_obj.logits, 1), labels_ph)\n",
    "accuracy = tf.reduce_mean(tf.cast(correct, tf.float32))\n",
    "        \n",
    "# tf.get_default_graph().finalize()\n",
    "sess.run(tf.global_variables_initializer())\n",
    "vgg_obj.load_weights(vgg_obj.weights, vgg_obj.sess)\n",
    "\n"
   ]
  },
  {
   "cell_type": "code",
   "execution_count": 5,
   "metadata": {},
   "outputs": [
    {
     "name": "stdout",
     "output_type": "stream",
     "text": [
      "[  0] Accuracy: 0.158  \t  Loss: 0.774 \t Val acc: 0.077\n",
      "[  1] Accuracy: 0.460  \t  Loss: 0.735 \t Val acc: 0.210\n",
      "[  2] Accuracy: 0.622  \t  Loss: 0.711 \t Val acc: 0.249\n",
      "[  3] Accuracy: 0.692  \t  Loss: 0.698 \t Val acc: 0.299\n",
      "[  4] Accuracy: 0.749  \t  Loss: 0.687 \t Val acc: 0.331\n",
      "[  5] Accuracy: 0.755  \t  Loss: 0.683 \t Val acc: 0.228\n",
      "[  6] Accuracy: 0.757  \t  Loss: 0.678 \t Val acc: 0.257\n",
      "[  7] Accuracy: 0.782  \t  Loss: 0.675 \t Val acc: 0.345\n",
      "[  8] Accuracy: 0.789  \t  Loss: 0.673 \t Val acc: 0.378\n",
      "[  9] Accuracy: 0.767  \t  Loss: 0.673 \t Val acc: 0.438\n",
      "[ 10] Accuracy: 0.788  \t  Loss: 0.670 \t Val acc: 0.408\n",
      "[ 11] Accuracy: 0.766  \t  Loss: 0.670 \t Val acc: 0.437\n",
      "[  0] Accuracy: 0.777  \t  Loss: 0.665 \t Val acc: 0.479\n",
      "[  1] Accuracy: 0.799  \t  Loss: 0.667 \t Val acc: 0.499\n",
      "[  2] Accuracy: 0.789  \t  Loss: 0.666 \t Val acc: 0.510\n",
      "[  3] Accuracy: 0.800  \t  Loss: 0.663 \t Val acc: 0.535\n",
      "[  4] Accuracy: 0.785  \t  Loss: 0.670 \t Val acc: 0.542\n",
      "[  5] Accuracy: 0.793  \t  Loss: 0.666 \t Val acc: 0.516\n",
      "[  6] Accuracy: 0.812  \t  Loss: 0.664 \t Val acc: 0.508\n",
      "[  7] Accuracy: 0.790  \t  Loss: 0.665 \t Val acc: 0.529\n",
      "[  8] Accuracy: 0.793  \t  Loss: 0.665 \t Val acc: 0.524\n",
      "[  9] Accuracy: 0.803  \t  Loss: 0.665 \t Val acc: 0.531\n"
     ]
    }
   ],
   "source": [
    "# Training code\n",
    "BS = 64\n",
    "NUM_EPOCHS_WARM = 12\n",
    "NUM_EPOCHS_FULL = 10\n",
    "\n",
    "train_imgs = datasets.sets['train']['imgs']\n",
    "train_lbls = datasets.sets['train']['lbls']\n",
    "\n",
    "val_imgs = datasets.sets['val']['imgs']\n",
    "val_lbls = datasets.sets['val']['lbls']\n",
    "\n",
    "training = vgg_obj.training\n",
    "keep_prob = vgg_obj.keep_prob\n",
    "\n",
    "def train_for_epochs(optimizer_in, loss_in, epochs, correct_in, accuracy_in):\n",
    "    for epoch in range(epochs):\n",
    "        # Let's shuffle the data every epoch\n",
    "        np.random.seed(epoch)\n",
    "        np.random.shuffle(train_imgs)\n",
    "        np.random.seed(epoch)\n",
    "        np.random.shuffle(train_lbls)\n",
    "        # Go through the entire dataset once\n",
    "        accuracy_vals, loss_vals = [], []\n",
    "        for i in range(0, train_imgs.shape[0]-BS+1, BS):\n",
    "            # Train a single batch\n",
    "            batch_images, batch_labels = train_imgs[i:i+BS], train_lbls[i:i+BS]\n",
    "            accuracy_val, loss_val, _ = sess.run([accuracy_in, loss_in, optimizer_in], feed_dict={imgs: batch_images, labels_ph: batch_labels, training: True, keep_prob: 0.9})\n",
    "            accuracy_vals.append(accuracy_val)\n",
    "            loss_vals.append(loss_val)\n",
    "\n",
    "        val_correct = []\n",
    "        for i in range(0, val_imgs.shape[0], BS):\n",
    "            batch_images, batch_labels = val_imgs[i:i+BS], val_lbls[i:i+BS]\n",
    "            val_correct.extend( sess.run(correct_in, feed_dict={imgs: batch_images, labels_ph: batch_labels, training: False, keep_prob:0.9}) )\n",
    "        print('[%3d] Accuracy: %0.3f  \\t  Loss: %0.3f \\t Val acc: %0.3f'%(epoch, np.mean(accuracy_vals), np.mean(loss_vals), np.mean(val_correct)))\n",
    "train_for_epochs(opt_warm, loss_warm, NUM_EPOCHS_WARM, correct, accuracy)\n",
    "train_for_epochs(opt_full, loss_full, NUM_EPOCHS_FULL, correct, accuracy)"
   ]
  },
  {
   "cell_type": "markdown",
   "metadata": {},
   "source": [
    "## notes about running hyperparameters:\n",
    "\n",
    "1. Warmup starts to overfit after ~15 epochs. So use 12 instead, and hopefully the full network training will improve generalization."
   ]
  },
  {
   "cell_type": "code",
   "execution_count": 13,
   "metadata": {},
   "outputs": [
    {
     "name": "stdout",
     "output_type": "stream",
     "text": [
      "Test accuracy:\n",
      "Top-1: 66.2\n",
      "Top-3: 75.4\n",
      "Top-5: 78.4\n"
     ]
    }
   ],
   "source": [
    "test_imgs_processed = datasets.sets['test']['imgs']\n",
    "test_labels = datasets.sets['test']['lbls']\n",
    "\n",
    "num_test = len(test_imgs_processed)\n",
    "test_batch_size = 128\n",
    "total_top_1, total_top_3, total_top_5 = [[] for x in range(3)]\n",
    "\n",
    "for batch_start in range(0, num_test - test_batch_size + 1, test_batch_size):\n",
    "    \n",
    "    img_batch = test_imgs_processed[batch_start:batch_start + test_batch_size, :, :]\n",
    "    labels_batch = test_labels[batch_start:batch_start + test_batch_size]\n",
    "    test_probabilities = sess.run(vgg_obj.probs, feed_dict={vgg_obj.imgs: img_batch, training: False, keep_prob:0.9})\n",
    "\n",
    "    top_1_correct, top_3_correct, top_5_correct = [0] * 3\n",
    "    for sample_idx, sample in enumerate(test_probabilities):\n",
    "        top_predictions = (np.argsort(sample)[::-1])[:5]\n",
    "        test_label = labels_batch[sample_idx]\n",
    "        if test_label in top_predictions[:1]:\n",
    "            top_1_correct += 1\n",
    "        if test_label in top_predictions[:3]:\n",
    "            top_3_correct += 1\n",
    "        if test_label in top_predictions:\n",
    "            top_5_correct += 1\n",
    "\n",
    "    total_top_1.append(top_1_correct)\n",
    "    total_top_3.append(top_3_correct)\n",
    "    total_top_5.append(top_5_correct)\n",
    "\n",
    "print('Test accuracy:')\n",
    "print('Top-1:', np.mean(total_top_1))\n",
    "print('Top-3:', np.mean(total_top_3))\n",
    "print('Top-5:', np.mean(total_top_5))"
   ]
  },
  {
   "cell_type": "code",
   "execution_count": 14,
   "metadata": {},
   "outputs": [
    {
     "data": {
      "text/plain": [
       "'./checkpoints/bird_662_test_acc.ckpt'"
      ]
     },
     "execution_count": 14,
     "metadata": {},
     "output_type": "execute_result"
    }
   ],
   "source": [
    "saver = tf.train.Saver(tf.trainable_variables())\n",
    "saver.save(sess, './checkpoints/bird_662_test_acc.ckpt')"
   ]
  },
  {
   "cell_type": "code",
   "execution_count": null,
   "metadata": {},
   "outputs": [],
   "source": []
  }
 ],
 "metadata": {
  "kernelspec": {
   "display_name": "Python 3",
   "language": "python",
   "name": "python3"
  },
  "language_info": {
   "codemirror_mode": {
    "name": "ipython",
    "version": 3
   },
   "file_extension": ".py",
   "mimetype": "text/x-python",
   "name": "python",
   "nbconvert_exporter": "python",
   "pygments_lexer": "ipython3",
   "version": "3.6.3"
  }
 },
 "nbformat": 4,
 "nbformat_minor": 2
}
